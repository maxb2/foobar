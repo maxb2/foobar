{
 "cells": [
  {
   "cell_type": "code",
   "execution_count": null,
   "id": "regulation-lover",
   "metadata": {},
   "outputs": [],
   "source": [
    "Prepare the Bunnies' Escape\n",
    "===========================\n",
    "\n",
    "You're awfully close to destroying the LAMBCHOP doomsday device and freeing Commander Lambda's bunny workers, but once they're free of the work duties the bunnies are going to need to escape Lambda's space station via the escape pods as quickly as possible. Unfortunately, the halls of the space station are a maze of corridors and dead ends that will be a deathtrap for the escaping bunnies. Fortunately, Commander Lambda has put you in charge of a remodeling project that will give you the opportunity to make things a little easier for the bunnies. Unfortunately (again), you can't just remove all obstacles between the bunnies and the escape pods - at most you can remove one wall per escape pod path, both to maintain structural integrity of the station and to avoid arousing Commander Lambda's suspicions. \n",
    "\n",
    "You have maps of parts of the space station, each starting at a work area exit and ending at the door to an escape pod. The map is represented as a matrix of 0s and 1s, where 0s are passable space and 1s are impassable walls. The door out of the station is at the top left (0,0) and the door into an escape pod is at the bottom right (w-1,h-1). \n",
    "\n",
    "Write a function solution(map) that generates the length of the shortest path from the station door to the escape pod, where you are allowed to remove one wall as part of your remodeling plans. The path length is the total number of nodes you pass through, counting both the entrance and exit nodes. The starting and ending positions are always passable (0). The map will always be solvable, though you may or may not need to remove a wall. The height and width of the map can be from 2 to 20. Moves can only be made in cardinal directions; no diagonal moves are allowed.\n",
    "\n",
    "Languages\n",
    "=========\n",
    "\n",
    "To provide a Python solution, edit solution.py\n",
    "To provide a Java solution, edit Solution.java\n",
    "\n",
    "Test cases\n",
    "==========\n",
    "Your code should pass the following test cases.\n",
    "Note that it may also be run against hidden test cases not shown here.\n",
    "\n",
    "-- Python cases --\n",
    "Input:\n",
    "solution.solution([[0, 1, 1, 0], [0, 0, 0, 1], [1, 1, 0, 0], [1, 1, 1, 0]])\n",
    "Output:\n",
    "    7\n",
    "\n",
    "Input:\n",
    "solution.solution([[0, 0, 0, 0, 0, 0], [1, 1, 1, 1, 1, 0], [0, 0, 0, 0, 0, 0], [0, 1, 1, 1, 1, 1], [0, 1, 1, 1, 1, 1], [0, 0, 0, 0, 0, 0]])\n",
    "Output:\n",
    "    11\n",
    "\n",
    "-- Java cases --\n",
    "Input:\n",
    "Solution.solution({{0, 1, 1, 0}, {0, 0, 0, 1}, {1, 1, 0, 0}, {1, 1, 1, 0}})\n",
    "Output:\n",
    "    7\n",
    "\n",
    "Input:\n",
    "Solution.solution({{0, 0, 0, 0, 0, 0}, {1, 1, 1, 1, 1, 0}, {0, 0, 0, 0, 0, 0}, {0, 1, 1, 1, 1, 1}, {0, 1, 1, 1, 1, 1}, {0, 0, 0, 0, 0, 0}})\n",
    "Output:\n",
    "    11\n",
    "\n",
    "Use verify [file] to test your solution and see how it does. When you are finished editing your code, use submit [file] to submit your answer. If your solution passes the test cases, it will be removed from your home folder."
   ]
  },
  {
   "cell_type": "code",
   "execution_count": 27,
   "id": "gross-channels",
   "metadata": {
    "execution": {
     "iopub.execute_input": "2021-04-07T04:20:44.240018Z",
     "iopub.status.busy": "2021-04-07T04:20:44.239502Z",
     "iopub.status.idle": "2021-04-07T04:20:44.265584Z",
     "shell.execute_reply": "2021-04-07T04:20:44.264675Z",
     "shell.execute_reply.started": "2021-04-07T04:20:44.239964Z"
    }
   },
   "outputs": [
    {
     "name": "stdout",
     "output_type": "stream",
     "text": [
      "7\n",
      "11\n"
     ]
    }
   ],
   "source": [
    "#Initial working solution\n",
    "def solution(map):\n",
    "    w, h = len(map[0]), len(map) #Width and height\n",
    "    shortest_path = 401\n",
    "    for a_map in all_maps(map):\n",
    "#        Find min path length\n",
    "        shortest_path = min(min_path(a_map, w, h), shortest_path)\n",
    "        if shortest_path == w + h - 1:\n",
    "            return shortest_path\n",
    "    return shortest_path\n",
    "def min_path(map, w, h):\n",
    "    d = {1: {(0,0)}}\n",
    "    short_path = 2\n",
    "    while short_path < 401 and d[short_path-1]:\n",
    "        explored = set()\n",
    "        for x in d[short_path-1]:\n",
    "            unexplored_x = {y for y in open_neighbors(x, map) if not any(y in visited for visited in d.values())}\n",
    "            explored = explored | unexplored_x\n",
    "        if (h-1, w-1) in explored:\n",
    "            return short_path\n",
    "        d[short_path] = explored\n",
    "        short_path += 1\n",
    "        \n",
    "    return 401\n",
    "def open_neighbors(x,map):\n",
    "    i, j = x\n",
    "    w, h = len(map[0]), len(map)\n",
    "    adjacent_spaces = {(i-1, j), (i+1, j), (i, j-1), (i, j+1)}\n",
    "    open_neighbors = set()\n",
    "    for y in adjacent_spaces:\n",
    "        k, l = y\n",
    "        if k >= 0. and k<h and l>=0 and l<w and map[k][l] == 0:\n",
    "            open_neighbors.add(y)\n",
    "    return open_neighbors\n",
    "def all_maps(map):\n",
    "    yield map\n",
    "    for i in range(len(map)):\n",
    "        for j in range(len(map[i])):\n",
    "            if map[i][j]:\n",
    "                copy = [[col for col in row] for row in map]\n",
    "                copy[i][j] = 0\n",
    "                yield copy\n",
    "\n",
    "    \n",
    "t0 = [[0, 1, 1, 0], [0, 0, 0, 1], [1, 1, 0, 0], [1, 1, 1, 0]]\n",
    "t1 = [[0, 0, 0, 0, 0, 0], [1, 1, 1, 1, 1, 0], [0, 0, 0, 0, 0, 0], [0, 1, 1, 1, 1, 1], [0, 1, 1, 1, 1, 1], [0, 0, 0, 0, 0, 0]]\n",
    "print(solution(t0))\n",
    "print(solution(t1))"
   ]
  },
  {
   "cell_type": "code",
   "execution_count": 41,
   "id": "oriental-profession",
   "metadata": {
    "execution": {
     "iopub.execute_input": "2021-04-07T04:50:15.653501Z",
     "iopub.status.busy": "2021-04-07T04:50:15.653015Z",
     "iopub.status.idle": "2021-04-07T04:50:15.677361Z",
     "shell.execute_reply": "2021-04-07T04:50:15.676268Z",
     "shell.execute_reply.started": "2021-04-07T04:50:15.653449Z"
    }
   },
   "outputs": [
    {
     "name": "stdout",
     "output_type": "stream",
     "text": [
      "7\n",
      "11\n"
     ]
    }
   ],
   "source": [
    "#Final submitted solution\n",
    "def solution(map):\n",
    "    w, h = len(map[0]), len(map) # Map width and height\n",
    "    shortest_path = 401 # Initialize at impossibly large path length \n",
    "    all_maps = [map] # Removing a wall may not help\n",
    "    short_path_list =[401]\n",
    "    # Generate all the maps with one wall removed\n",
    "    for i in range(h):\n",
    "        for j in range(len(map[i])):\n",
    "            if map[i][j]==1:\n",
    "                copy = [[col for col in row] for row in map]\n",
    "                copy[i][j] = 0\n",
    "                all_maps.append(copy)\n",
    "    # Find the minimum path length for each map \n",
    "    # and compare that to the shortest discovered path\n",
    "    for a_map in all_maps:\n",
    "#        Find min path length\n",
    "        d = {1: {(0,0)}}\n",
    "        short_path = 2 # Initialize counter with first and ending nodes included\n",
    "        count = 0\n",
    "        while short_path < 401 and d[short_path-1]:\n",
    "            explored = set()\n",
    "            for x in d[short_path-1]:\n",
    "                i, j = x\n",
    "                adjacent_spaces = {(i-1, j), (i+1, j), (i, j-1), (i, j+1)}\n",
    "                open_neighbors = set()\n",
    "                for space in adjacent_spaces:\n",
    "                    k, l = space\n",
    "                    if k >= 0. and k<h and l>=0 and l<w and a_map[k][l] == 0:\n",
    "                        open_neighbors.add(space)\n",
    "                unexplored_x = {y for y in open_neighbors if not any(y in visited for visited in d.values())}\n",
    "                explored = explored | unexplored_x\n",
    "            \n",
    "            if (h-1, w-1) in explored: # Did we reach an escape pod?\n",
    "                shortest_path = min(short_path, shortest_path)\n",
    "                count +=1\n",
    "            d[short_path] = explored\n",
    "            short_path += 1\n",
    "        if count == 0:\n",
    "            shortest_path = min(shortest_path, 401) \n",
    "        if shortest_path == w + h - 1:\n",
    "            return shortest_path\n",
    "    return shortest_path\n",
    "\n",
    "\n",
    "    \n",
    "t0 = [[0, 1, 1, 0], [0, 0, 0, 1], [1, 1, 0, 0], [1, 1, 1, 0]]\n",
    "t1 = [[0, 0, 0, 0, 0, 0], [1, 1, 1, 1, 1, 0], [0, 0, 0, 0, 0, 0], [0, 1, 1, 1, 1, 1], [0, 1, 1, 1, 1, 1], [0, 0, 0, 0, 0, 0]]\n",
    "print(solution(t0))\n",
    "print(solution(t1))"
   ]
  }
 ],
 "metadata": {
  "jupytext": {
   "cell_metadata_filter": "-ExecuteTime,-execute,-execution",
   "text_representation": {
    "extension": ".py",
    "format_name": "percent",
    "format_version": "1.3",
    "jupytext_version": "1.10.2"
   }
  },
  "kernelspec": {
   "display_name": "Python [conda env:.conda-ds-OnboardingHurstT]",
   "language": "python",
   "name": "conda-env-.conda-ds-OnboardingHurstT-py"
  },
  "language_info": {
   "codemirror_mode": {
    "name": "ipython",
    "version": 3
   },
   "file_extension": ".py",
   "mimetype": "text/x-python",
   "name": "python",
   "nbconvert_exporter": "python",
   "pygments_lexer": "ipython3",
   "version": "3.8.8"
  }
 },
 "nbformat": 4,
 "nbformat_minor": 5
}
