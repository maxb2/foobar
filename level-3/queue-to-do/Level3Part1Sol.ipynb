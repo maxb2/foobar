{
 "cells": [
  {
   "cell_type": "code",
   "execution_count": null,
   "id": "sixth-composite",
   "metadata": {},
   "outputs": [],
   "source": [
    "Queue To Do\n",
    "===========\n",
    "\n",
    "You're almost ready to make your move to destroy the LAMBCHOP doomsday device, but the security checkpoints that guard the underlying systems of the LAMBCHOP are going to be a problem. You were able to take one down without tripping any alarms, which is great! Except that as Commander Lambda's assistant, you've learned that the checkpoints are about to come under automated review, which means that your sabotage will be discovered and your cover blown -- unless you can trick the automated review system.\n",
    "\n",
    "To trick the system, you'll need to write a program to return the same security checksum that the bunny trainers would have after they would have checked all the workers through. Fortunately, Commander Lambda's desire for efficiency won't allow for hours-long lines, so the trainers at the checkpoint have found ways to quicken the pass-through rate. Instead of checking each and every worker coming through, the bunny trainers instead go over everyone in line while noting their worker IDs, then allow the line to fill back up. Once they've done that they go over the line again, this time leaving off the last worker. They continue doing this, leaving off one more worker from the line each time but recording the worker IDs of those they do check, until they skip the entire line, at which point they XOR the IDs of all the workers they noted into a checksum and then take off for lunch. Fortunately, the workers' orderly nature causes them to always line up in numerical order without any gaps.\n",
    "\n",
    "For example, if the first worker in line has ID 0 and the security checkpoint line holds three workers, the process would look like this:\n",
    "0 1 2 /\n",
    "3 4 / 5\n",
    "6 / 7 8\n",
    "where the trainers' XOR (^) checksum is 0^1^2^3^4^6 == 2.\n",
    "\n",
    "Likewise, if the first worker has ID 17 and the checkpoint holds four workers, the process would look like:\n",
    "17 18 19 20 /\n",
    "21 22 23 / 24\n",
    "25 26 / 27 28\n",
    "29 / 30 31 32\n",
    "which produces the checksum 17^18^19^20^21^22^23^25^26^29 == 14.\n",
    "\n",
    "All worker IDs (including the first worker) are between 0 and 2000000000 inclusive, and the checkpoint line will always be at least 1 worker long.\n",
    "\n",
    "With this information, write a function solution(start, length) that will cover for the missing security checkpoint by outputting the same checksum the trainers would normally submit before lunch. You have just enough time to find out the ID of the first worker to be checked (start) and the length of the line (length) before the automatic review occurs, so your program must generate the proper checksum with just those two values.\n",
    "\n",
    "Languages\n",
    "=========\n",
    "\n",
    "To provide a Java solution, edit Solution.java\n",
    "To provide a Python solution, edit solution.py\n",
    "\n",
    "Test cases\n",
    "==========\n",
    "Your code should pass the following test cases.\n",
    "Note that it may also be run against hidden test cases not shown here.\n",
    "\n",
    "-- Java cases --\n",
    "Input:\n",
    "Solution.solution(0, 3)\n",
    "Output:\n",
    "    2\n",
    "\n",
    "Input:\n",
    "Solution.solution(17, 4)\n",
    "Output:\n",
    "    14\n",
    "\n",
    "-- Python cases --\n",
    "Input:\n",
    "solution.solution(0, 3)\n",
    "Output:\n",
    "    2\n",
    "\n",
    "Input:\n",
    "solution.solution(17, 4)\n",
    "Output:\n",
    "    14\n",
    "\n",
    "Use verify [file] to test your solution and see how it does. When you are finished editing your code, use submit [file] to submit your answer. If your solution passes the test cases, it will be removed from your home folder."
   ]
  },
  {
   "cell_type": "code",
   "execution_count": 7,
   "id": "attached-winter",
   "metadata": {
    "execution": {
     "iopub.execute_input": "2021-03-26T05:53:37.136375Z",
     "iopub.status.busy": "2021-03-26T05:53:37.135903Z",
     "iopub.status.idle": "2021-03-26T05:53:37.149278Z",
     "shell.execute_reply": "2021-03-26T05:53:37.148150Z",
     "shell.execute_reply.started": "2021-03-26T05:53:37.136309Z"
    }
   },
   "outputs": [
    {
     "name": "stdout",
     "output_type": "stream",
     "text": [
      "2\n",
      "14\n"
     ]
    }
   ],
   "source": [
    "def solution(start, length):\n",
    "    if 2000000000 < start < 0:\n",
    "        return \"Oops! Worker ID outside allowable range.\"\n",
    "    if length < 1:\n",
    "        return \"Oops! Workers aren't at lunch yet! No one is in line.\"\n",
    "    if length == 1:\n",
    "        return start\n",
    "    checksum = 0\n",
    "    length_iter = length\n",
    "    start_iter = start\n",
    "    # XOR(a,b) = XOR(1,a-1)^XOR(1,b)\n",
    "    while length_iter > 0:\n",
    "        end_iter = start_iter+length_iter-1\n",
    "        end_rem_xor_dict = {0:end_iter, 1:1, 2:end_iter+1, 3:0}\n",
    "        end_rem = end_iter % 4\n",
    "        end_iter_xor = end_rem_xor_dict[end_rem]\n",
    "        start_rem_xor_dict = {0:start_iter-1, 1:1, 2:start_iter, 3:0}\n",
    "        start_rem = (start_iter-1) % 4\n",
    "        start_iter_xor = start_rem_xor_dict[start_rem]\n",
    "        checksum ^= start_iter_xor^end_iter_xor\n",
    "        length_iter -=1\n",
    "        start_iter += length\n",
    "    return checksum\n",
    "\n",
    "s1 = 0\n",
    "l1 = 3\n",
    "s2 = 17\n",
    "l2 = 4\n",
    "print(solution(s1, l1))\n",
    "print(solution(s2, l2))"
   ]
  },
  {
   "cell_type": "code",
   "execution_count": null,
   "id": "processed-wallace",
   "metadata": {},
   "outputs": [],
   "source": []
  }
 ],
 "metadata": {
  "jupytext": {
   "cell_metadata_filter": "-ExecuteTime,-execute,-execution",
   "text_representation": {
    "extension": ".py",
    "format_name": "percent",
    "format_version": "1.3",
    "jupytext_version": "1.10.2"
   }
  },
  "kernelspec": {
   "display_name": "Python [conda env:.conda-ds-OnboardingHurstT]",
   "language": "python",
   "name": "conda-env-.conda-ds-OnboardingHurstT-py"
  },
  "language_info": {
   "codemirror_mode": {
    "name": "ipython",
    "version": 3
   },
   "file_extension": ".py",
   "mimetype": "text/x-python",
   "name": "python",
   "nbconvert_exporter": "python",
   "pygments_lexer": "ipython3",
   "version": "3.8.8"
  }
 },
 "nbformat": 4,
 "nbformat_minor": 5
}
