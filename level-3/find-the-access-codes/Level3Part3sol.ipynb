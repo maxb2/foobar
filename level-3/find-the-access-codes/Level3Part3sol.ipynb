{
 "cells": [
  {
   "cell_type": "code",
   "execution_count": null,
   "id": "sudden-neighborhood",
   "metadata": {},
   "outputs": [],
   "source": [
    "Find the Access Codes\n",
    "=====================\n",
    "\n",
    "In order to destroy Commander Lambda's LAMBCHOP doomsday device, you'll need access to it. But the only door leading to the LAMBCHOP chamber is secured with a unique lock system whose number of passcodes changes daily. Commander Lambda gets a report every day that includes the locks' access codes, but only the Commander knows how to figure out which of several lists contains the access codes. You need to find a way to determine which list contains the access codes once you're ready to go in. \n",
    "\n",
    "Fortunately, now that you're Commander Lambda's personal assistant, Lambda has confided to you that all the access codes are \"lucky triples\" in order to make it easier to find them in the lists. A \"lucky triple\" is a tuple (x, y, z) where x divides y and y divides z, such as (1, 2, 4). With that information, you can figure out which list contains the number of access codes that matches the number of locks on the door when you're ready to go in (for example, if there's 5 passcodes, you'd need to find a list with 5 \"lucky triple\" access codes).\n",
    "\n",
    "Write a function solution(l) that takes a list of positive integers l and counts the number of \"lucky triples\" of (li, lj, lk) where the list indices meet the requirement i < j < k.  The length of l is between 2 and 2000 inclusive.  The elements of l are between 1 and 999999 inclusive.  The solution fits within a signed 32-bit integer. Some of the lists are purposely generated without any access codes to throw off spies, so if no triples are found, return 0. \n",
    "\n",
    "For example, [1, 2, 3, 4, 5, 6] has the triples: [1, 2, 4], [1, 2, 6], [1, 3, 6], making the solution 3 total.\n",
    "\n",
    "Languages\n",
    "=========\n",
    "\n",
    "To provide a Java solution, edit Solution.java\n",
    "To provide a Python solution, edit solution.py\n",
    "\n",
    "Test cases\n",
    "==========\n",
    "Your code should pass the following test cases.\n",
    "Note that it may also be run against hidden test cases not shown here.\n",
    "\n",
    "-- Java cases --\n",
    "Input:\n",
    "Solution.solution([1, 1, 1])\n",
    "Output:\n",
    "    1\n",
    "\n",
    "Input:\n",
    "Solution.solution([1, 2, 3, 4, 5, 6])\n",
    "Output:\n",
    "    3\n",
    "\n",
    "-- Python cases --\n",
    "Input:\n",
    "solution.solution([1, 2, 3, 4, 5, 6])\n",
    "Output:\n",
    "    3\n",
    "\n",
    "Input:\n",
    "solution.solution([1, 1, 1])\n",
    "Output:\n",
    "    1\n",
    "\n",
    "Use verify [file] to test your solution and see how it does. When you are finished editing your code, use submit [file] to submit your answer. If your solution passes the test cases, it will be removed from your home folder."
   ]
  },
  {
   "cell_type": "code",
   "execution_count": 8,
   "id": "acceptable-morrison",
   "metadata": {
    "execution": {
     "iopub.execute_input": "2021-04-11T16:51:59.294236Z",
     "iopub.status.busy": "2021-04-11T16:51:59.293750Z",
     "iopub.status.idle": "2021-04-11T16:51:59.305176Z",
     "shell.execute_reply": "2021-04-11T16:51:59.303983Z",
     "shell.execute_reply.started": "2021-04-11T16:51:59.294185Z"
    }
   },
   "outputs": [
    {
     "name": "stdout",
     "output_type": "stream",
     "text": [
      "3\n",
      "1\n"
     ]
    }
   ],
   "source": [
    "def solution(l):\n",
    "    code_list_length = len(l)\n",
    "    triples_count = 0\n",
    "    if 2 > code_list_length > 2000:\n",
    "        return \"This code list is too long or short!\"\n",
    "    counter_list = [0] * code_list_length\n",
    "    for i in range(code_list_length):\n",
    "        if 1 > l[i] > 999999:\n",
    "            return \"A list element is outside acceptable bounds\"\n",
    "        for j in range(i):\n",
    "            if l[i] % l[j] == 0:\n",
    "                counter_list[i] += 1\n",
    "                triples_count += counter_list[j]\n",
    "    return triples_count\n",
    "    \n",
    "    \n",
    "    \n",
    "    \n",
    "t0 = [1, 2, 3, 4, 5, 6]\n",
    "t1 = [1, 1, 1]\n",
    "print(solution(t0))\n",
    "print(solution(t1))"
   ]
  },
  {
   "cell_type": "code",
   "execution_count": null,
   "id": "stock-animation",
   "metadata": {},
   "outputs": [],
   "source": []
  }
 ],
 "metadata": {
  "jupytext": {
   "cell_metadata_filter": "-ExecuteTime,-execute,-execution",
   "text_representation": {
    "extension": ".py",
    "format_name": "percent",
    "format_version": "1.3",
    "jupytext_version": "1.10.2"
   }
  },
  "kernelspec": {
   "display_name": "Python 3",
   "language": "python",
   "name": "python3"
  },
  "language_info": {
   "codemirror_mode": {
    "name": "ipython",
    "version": 3
   },
   "file_extension": ".py",
   "mimetype": "text/x-python",
   "name": "python",
   "nbconvert_exporter": "python",
   "pygments_lexer": "ipython3",
   "version": "3.8.8"
  }
 },
 "nbformat": 4,
 "nbformat_minor": 5
}
