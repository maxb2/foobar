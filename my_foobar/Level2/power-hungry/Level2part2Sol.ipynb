{
 "cells": [
  {
   "cell_type": "code",
   "execution_count": null,
   "id": "moral-business",
   "metadata": {},
   "outputs": [],
   "source": [
    "Power Hungry\n",
    "============\n",
    "\n",
    "Commander Lambda's space station is HUGE. And huge space stations take a LOT of power. Huge space stations with doomsday devices take even more power. To help meet the station's power needs, Commander Lambda has installed solar panels on the station's outer surface. But the station sits in the middle of a quasar quantum flux field, which wreaks havoc on the solar panels. You and your team of henchmen have been assigned to repair the solar panels, but you'd rather not take down all of the panels at once if you can help it, since they do help power the space station and all!\n",
    "\n",
    "You need to figure out which sets of panels in any given array you can take offline to repair while still maintaining the maximum amount of power output per array, and to do THAT, you'll first need to figure out what the maximum output of each array actually is. Write a function solution(xs) that takes a list of integers representing the power output levels of each panel in an array, and returns the maximum product of some non-empty subset of those numbers. So for example, if an array contained panels with power output levels of [2, -3, 1, 0, -5], then the maximum product would be found by taking the subset: xs[0] = 2, xs[1] = -3, xs[4] = -5, giving the product 2*(-3)*(-5) = 30.  So solution([2,-3,1,0,-5]) will be \"30\".\n",
    "\n",
    "Each array of solar panels contains at least 1 and no more than 50 panels, and each panel will have a power output level whose absolute value is no greater than 1000 (some panels are malfunctioning so badly that they're draining energy, but you know a trick with the panels' wave stabilizer that lets you combine two negative-output panels to produce the positive output of the multiple of their power values). The final products may be very large, so give the solution as a string representation of the number.\n",
    "\n",
    "Test cases\n",
    "==========\n",
    "Your code should pass the following test cases.\n",
    "Note that it may also be run against hidden test cases not shown here.\n",
    "\n",
    "-- Python cases --\n",
    "Input:\n",
    "solution.solution([2, 0, 2, 2, 0])\n",
    "Output:\n",
    "    8\n",
    "\n",
    "Input:\n",
    "solution.solution([-2, -3, 4, -5])\n",
    "Output:\n",
    "    60"
   ]
  },
  {
   "cell_type": "code",
   "execution_count": 10,
   "id": "serial-migration",
   "metadata": {
    "execution": {
     "iopub.execute_input": "2021-03-21T15:31:58.873833Z",
     "iopub.status.busy": "2021-03-21T15:31:58.873360Z",
     "iopub.status.idle": "2021-03-21T15:31:58.893120Z",
     "shell.execute_reply": "2021-03-21T15:31:58.891725Z",
     "shell.execute_reply.started": "2021-03-21T15:31:58.873781Z"
    }
   },
   "outputs": [
    {
     "name": "stdout",
     "output_type": "stream",
     "text": [
      "8\n",
      "60\n",
      "30\n",
      "0\n",
      "0\n",
      "1\n"
     ]
    }
   ],
   "source": [
    "def solution(xs):\n",
    "    num_panels = len(xs)\n",
    "    if num_panels < 1:\n",
    "        return \"Oops! This array has no panels!\"\n",
    "    elif num_panels == 1:\n",
    "        return str(xs[0])\n",
    "    elif num_panels > 50:\n",
    "        return \"Oops! This array has too many panels!\"\n",
    "    nonzero_xs = []\n",
    "    count_zeroes = 0\n",
    "    for panel in xs:\n",
    "        if abs(panel) > 1000:\n",
    "            return \"Oops! A panel has power output that is too high!\"\n",
    "        if panel != 0:\n",
    "            nonzero_xs.append(panel)\n",
    "        else: \n",
    "            count_zeroes +=1\n",
    "    if len(nonzero_xs) == 0:\n",
    "        return str(xs[0])\n",
    "    power = 1\n",
    "    neg_count = 0 \n",
    "    for panel in nonzero_xs:\n",
    "        power *= panel \n",
    "        if panel < 0:\n",
    "            neg_count +=1\n",
    "    if power < 0 and neg_count > 2:\n",
    "        lowest_drain = max([panel for panel in nonzero_xs if panel < 0])\n",
    "        power = power/lowest_drain\n",
    "    if power < 0 and count_zeroes > 0: \n",
    "        power = 0\n",
    "    return str(int(power))\n",
    "        \n",
    "t1 = [2, 0, 2, 2, 0]\n",
    "t2 = [-2, -3, 4, -5]\n",
    "t3 = [2, -3, 1, 0, -5]\n",
    "t4 = [0,0,0]\n",
    "t5 = [0,-1]\n",
    "t6 = [0, -1, -1]\n",
    "print(solution(t1))\n",
    "print(solution(t2))\n",
    "print(solution(t3))\n",
    "print(solution(t4))\n",
    "print(solution(t5))\n",
    "print(solution(t6))"
   ]
  },
  {
   "cell_type": "code",
   "execution_count": null,
   "id": "selected-ending",
   "metadata": {},
   "outputs": [],
   "source": [
    "# https://foobar.withgoogle.com/?eid=KUkbv  referral link"
   ]
  }
 ],
 "metadata": {
  "jupytext": {
   "cell_metadata_filter": "-ExecuteTime,-execute,-execution",
   "text_representation": {
    "extension": ".py",
    "format_name": "percent",
    "format_version": "1.3",
    "jupytext_version": "1.10.2"
   }
  },
  "kernelspec": {
   "display_name": "Python [conda env:.conda-ds-OnboardingHurstT]",
   "language": "python",
   "name": "conda-env-.conda-ds-OnboardingHurstT-py"
  },
  "language_info": {
   "codemirror_mode": {
    "name": "ipython",
    "version": 3
   },
   "file_extension": ".py",
   "mimetype": "text/x-python",
   "name": "python",
   "nbconvert_exporter": "python",
   "pygments_lexer": "ipython3",
   "version": "3.8.8"
  }
 },
 "nbformat": 4,
 "nbformat_minor": 5
}
