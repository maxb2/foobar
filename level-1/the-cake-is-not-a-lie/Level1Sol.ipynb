{
 "cells": [
  {
   "cell_type": "code",
   "execution_count": 1,
   "id": "korean-petersburg",
   "metadata": {
    "execution": {
     "iopub.execute_input": "2021-04-07T19:43:50.417971Z",
     "iopub.status.busy": "2021-04-07T19:43:50.417358Z",
     "iopub.status.idle": "2021-04-07T19:43:50.448940Z",
     "shell.execute_reply": "2021-04-07T19:43:50.447984Z",
     "shell.execute_reply.started": "2021-04-07T19:43:50.417760Z"
    },
    "lines_to_next_cell": 2
   },
   "outputs": [],
   "source": [
    "The cake is not a lie!\n",
    "======================\n",
    "\n",
    "Commander Lambda has had an incredibly successful week: she completed the first test run of her LAMBCHOP doomsday device, she captured six key members\n",
    "of the Bunny Rebellion, and she beat her personal high score in Tetris. To celebrate, she's ordered cake for everyone - even the lowliest of\n",
    "minions! But competition among minions is fierce, and if you don't cut exactly equal slices of cake for everyone, you'll get in big trouble.\n",
    "\n",
    "The cake is round, and decorated with M&Ms in a circle around the edge. But while the rest of the cake is uniform, the M&Ms are not: there are\n",
    "multiple colors, and every minion must get exactly the same sequence of M&Ms. Commander Lambda hates waste and will not tolerate any leftovers, so\n",
    "you also want to make sure you can serve the entire cake.\n",
    "\n",
    "To help you best cut the cake, you have turned the sequence of colors of the M&Ms on the cake into a string: each possible letter (between a and z)\n",
    "corresponds to a unique color, and the sequence of M&Ms is given clockwise (the decorations form a circle around the outer edge of the cake).\n",
    "\n",
    "Write a function called answer(s) that, given a non-empty string less than 200 characters in length describing the sequence of M&Ms, returns the\n",
    "maximum number of equal parts that can be cut from the cake without leaving any leftovers.\n",
    "\n",
    "Languages\n",
    "=========\n",
    "\n",
    "To provide a Python solution, edit solution.py\n",
    "To provide a Java solution, edit solution.java\n",
    "\n",
    "Test cases\n",
    "==========\n",
    "\n",
    "Inputs:\n",
    "    (string) s = \"abccbaabccba\"\n",
    "Output: 2\n",
    "\n",
    "Inputs:\n",
    "    (string) s = \"abcabcabcabc\"\n",
    "Output: 4\n",
    "\n",
    "Use verify [file] to test your solution and see how it does. When you are finished editing your code, use submit [file] to submit your answer. If your\n",
    "solution passes the test cases, it will be removed from your home folder."
   ]
  },
  {
   "cell_type": "code",
   "execution_count": 1,
   "id": "printable-chain",
   "metadata": {
    "execution": {
     "iopub.execute_input": "2021-04-07T19:43:50.417971Z",
     "iopub.status.busy": "2021-04-07T19:43:50.417358Z",
     "iopub.status.idle": "2021-04-07T19:43:50.448940Z",
     "shell.execute_reply": "2021-04-07T19:43:50.447984Z",
     "shell.execute_reply.started": "2021-04-07T19:43:50.417760Z"
    },
    "lines_to_next_cell": 2
   },
   "outputs": [
    {
     "name": "stdout",
     "output_type": "stream",
     "text": [
      "4\n",
      "2\n",
      "1\n",
      "4\n"
     ]
    }
   ],
   "source": [
    "def solution(s):\n",
    "    string_length = len(s)\n",
    "    if s.isalpha() == False:\n",
    "        return \"oops...you can't put other candies on the cake! Only M&Ms allowed.\"\n",
    "    elif string_length > 200:\n",
    "        return \"oops...provided string is too long. The minions will have a sugar crash with that many M&Ms!\"\n",
    "    elif string_length == 0:\n",
    "        return \"oops...empty string provided. Your cake can't be missing M&Ms!\"\n",
    "    else:\n",
    "        string_twice = s + s\n",
    "        max_subseq_count=0\n",
    "        for start_pos in range(string_length):\n",
    "            end_pos = start_pos+string_length\n",
    "            sub_string = string_twice[start_pos:end_pos]\n",
    "            for k in range(string_length):\n",
    "                sub_string_length = k+1\n",
    "                if string_length % (sub_string_length) == 0:\n",
    "                    subseq_count = int(string_length/(sub_string_length))\n",
    "                    s_subseq_count=0\n",
    "                    for m in range(subseq_count):\n",
    "                        if (sub_string[m*sub_string_length:m*sub_string_length+sub_string_length]==sub_string[m*sub_string_length+sub_string_length:m*sub_string_length+2*sub_string_length]):\n",
    "                            s_subseq_count+=1\n",
    "                    if s_subseq_count+1 == subseq_count:\n",
    "                        if max_subseq_count < subseq_count:\n",
    "                            max_subseq_count=subseq_count\n",
    "        return max_subseq_count\n",
    "    \n",
    "\n",
    "                            \n",
    "\n",
    "#                     print(string_length)\n",
    "\n",
    "#                     print(k+1)\n",
    "\n",
    "#             print(sub_string)\n",
    "# print(solution('abcabcabcabcabcabcabcabcabcabcabcabcabcabcabcabcabcabcabcabcabcabcabcabcabcabcabcabcabcabcabcabcabcabcabcabcabcabcabcabcabcabcabcabcabcabcabcabcabcabcabcabcabcabcabcabcabcabcabcabcabcabcabcabcabcabcabcabcabcabcabcabcabcabcabcabcabcabcabcabcabcabcabcabcabcabcabcabcabcabcabcabcabcabcabcabcabcabcabcabcabcabcabcabcabcabcabcabcabcabcabcabcabcabcabcabcabcabcabcabcabcabcabcabcabcabcabcabcabcabcabcabcabcabcabcabcabcabcabcabcabcabcabcabcabcabcabcabcabcabcabcabcabcabcabcabcabcabcabcabcabcabcabcabcabcabcabcabcabcabcabcabcabcabcabcabcabcabcabcabcabcabcabcabcabcabcabcabcabcabcabcabcabcabcabcabcabcabcabcabcabcabcabcabcabcabcabcabcabcabcabcabcabcabcabcabcabcabcabcabcabcabcabcabcabcabcabcabcabcabcabcabcabcabcabcabcabcabcabcabcabcabcabcabcabcabcabcabcabcabcabcabcabcabcabcabcabcabcabcabcabcabcabcabcabcabcabcabcabcabcabcabcabcabcabcabcabcabcabcabcabcabcabcabcabcabcabcabcabcabcabcabcabcabcabcabcabcabcabcabcabcabcabcabcabcabcabcabcabcabcabcabcabcabcabcabcabcabcabcabcabcabcabcabcabcabcabcabcabcabcabcabcabcabcabcabcabcabcabcabcabcabcabcabcabcabcabcabcabcabcabcabcabcabcabcabcabcabcabcabcabcabcabcabcabcabcabcabcabcabcabcabcabcabcabcabcabcabcabcabcabcabcabcabcabcabcabcabcabcabcabcabcabcabcabcabcabcabcabcabcabcabcabcabcabcabcabcabcabcabcabcabcabcabcabcabcabcabcabcabcabcabcabcabcabcabcabcabc'))\n",
    "# print(solution(''))\n",
    "print(solution('abcabcabcabc'))\n",
    "print(solution('abccbaabccba'))\n",
    "print(solution('abcdefabcdefghijklmnopqrstuvwxyzabcdefabcdef'))\n",
    "\n",
    "print(solution('abccbaabccbaabccbaabccba'))"
   ]
  },
  {
   "cell_type": "code",
   "execution_count": null,
   "id": "positive-biodiversity",
   "metadata": {},
   "outputs": [],
   "source": []
  }
 ],
 "metadata": {
  "jupytext": {
   "cell_metadata_filter": "-ExecuteTime,-execute,-execution",
   "text_representation": {
    "extension": ".py",
    "format_name": "percent",
    "format_version": "1.3",
    "jupytext_version": "1.10.2"
   }
  },
  "kernelspec": {
   "display_name": "Python 3",
   "language": "python",
   "name": "python3"
  },
  "language_info": {
   "codemirror_mode": {
    "name": "ipython",
    "version": 3
   },
   "file_extension": ".py",
   "mimetype": "text/x-python",
   "name": "python",
   "nbconvert_exporter": "python",
   "pygments_lexer": "ipython3",
   "version": "3.8.8"
  }
 },
 "nbformat": 4,
 "nbformat_minor": 5
}
